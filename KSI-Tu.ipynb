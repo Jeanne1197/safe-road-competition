{
 "cells": [
  {
   "cell_type": "code",
   "execution_count": 6,
   "metadata": {},
   "outputs": [],
   "source": [
    "%matplotlib inline\n",
    "#pip install folium\n",
    "import seaborn as sns\n",
    "import statsmodels.formula.api as smf\n",
    "from sklearn.linear_model import LinearRegression\n",
    "from sklearn import metrics\n",
    "from sklearn.model_selection  import train_test_split\n",
    "import numpy as np\n",
    "from scipy.stats import norm # for scientific Computing\n",
    "from scipy import stats, integrate\n",
    "import matplotlib.pyplot as plt\n",
    "\n",
    "#from sklearn.datasets import fetch_mldata\n",
    "from sklearn.decomposition import PCA\n",
    "from sklearn.preprocessing import StandardScaler\n",
    "from sklearn import metrics\n",
    "\n",
    "import pandas as pd"
   ]
  },
  {
   "cell_type": "code",
   "execution_count": 7,
   "metadata": {},
   "outputs": [],
   "source": [
    "df= pd.read_csv('KSI.csv')"
   ]
  },
  {
   "cell_type": "code",
   "execution_count": 8,
   "metadata": {},
   "outputs": [
    {
     "data": {
      "text/html": [
       "<div>\n",
       "<style scoped>\n",
       "    .dataframe tbody tr th:only-of-type {\n",
       "        vertical-align: middle;\n",
       "    }\n",
       "\n",
       "    .dataframe tbody tr th {\n",
       "        vertical-align: top;\n",
       "    }\n",
       "\n",
       "    .dataframe thead th {\n",
       "        text-align: right;\n",
       "    }\n",
       "</style>\n",
       "<table border=\"1\" class=\"dataframe\">\n",
       "  <thead>\n",
       "    <tr style=\"text-align: right;\">\n",
       "      <th></th>\n",
       "      <th>X</th>\n",
       "      <th>Y</th>\n",
       "      <th>INDEX_</th>\n",
       "      <th>ACCNUM</th>\n",
       "      <th>YEAR</th>\n",
       "      <th>DATE</th>\n",
       "      <th>TIME</th>\n",
       "      <th>HOUR</th>\n",
       "      <th>STREET1</th>\n",
       "      <th>STREET2</th>\n",
       "      <th>...</th>\n",
       "      <th>PASSENGER</th>\n",
       "      <th>SPEEDING</th>\n",
       "      <th>AG_DRIV</th>\n",
       "      <th>REDLIGHT</th>\n",
       "      <th>ALCOHOL</th>\n",
       "      <th>DISABILITY</th>\n",
       "      <th>POLICE_DIVISION</th>\n",
       "      <th>HOOD_ID</th>\n",
       "      <th>NEIGHBOURHOOD</th>\n",
       "      <th>ObjectId</th>\n",
       "    </tr>\n",
       "  </thead>\n",
       "  <tbody>\n",
       "    <tr>\n",
       "      <th>0</th>\n",
       "      <td>-8.844611e+06</td>\n",
       "      <td>5.412414e+06</td>\n",
       "      <td>3387730</td>\n",
       "      <td>892658</td>\n",
       "      <td>2006</td>\n",
       "      <td>2006/03/11 05:00:00+00</td>\n",
       "      <td>852</td>\n",
       "      <td>8</td>\n",
       "      <td>BLOOR ST W</td>\n",
       "      <td>DUNDAS ST W</td>\n",
       "      <td>...</td>\n",
       "      <td>&lt;Null&gt;</td>\n",
       "      <td>&lt;Null&gt;</td>\n",
       "      <td>Yes</td>\n",
       "      <td>&lt;Null&gt;</td>\n",
       "      <td>&lt;Null&gt;</td>\n",
       "      <td>&lt;Null&gt;</td>\n",
       "      <td>D11</td>\n",
       "      <td>88</td>\n",
       "      <td>High Park North (88)</td>\n",
       "      <td>1</td>\n",
       "    </tr>\n",
       "    <tr>\n",
       "      <th>1</th>\n",
       "      <td>-8.844611e+06</td>\n",
       "      <td>5.412414e+06</td>\n",
       "      <td>3387731</td>\n",
       "      <td>892658</td>\n",
       "      <td>2006</td>\n",
       "      <td>2006/03/11 05:00:00+00</td>\n",
       "      <td>852</td>\n",
       "      <td>8</td>\n",
       "      <td>BLOOR ST W</td>\n",
       "      <td>DUNDAS ST W</td>\n",
       "      <td>...</td>\n",
       "      <td>&lt;Null&gt;</td>\n",
       "      <td>&lt;Null&gt;</td>\n",
       "      <td>Yes</td>\n",
       "      <td>&lt;Null&gt;</td>\n",
       "      <td>&lt;Null&gt;</td>\n",
       "      <td>&lt;Null&gt;</td>\n",
       "      <td>D11</td>\n",
       "      <td>88</td>\n",
       "      <td>High Park North (88)</td>\n",
       "      <td>2</td>\n",
       "    </tr>\n",
       "    <tr>\n",
       "      <th>2</th>\n",
       "      <td>-8.816480e+06</td>\n",
       "      <td>5.434843e+06</td>\n",
       "      <td>3388101</td>\n",
       "      <td>892810</td>\n",
       "      <td>2006</td>\n",
       "      <td>2006/03/11 05:00:00+00</td>\n",
       "      <td>915</td>\n",
       "      <td>9</td>\n",
       "      <td>MORNINGSIDE AVE</td>\n",
       "      <td>SHEPPARD AVE E</td>\n",
       "      <td>...</td>\n",
       "      <td>&lt;Null&gt;</td>\n",
       "      <td>&lt;Null&gt;</td>\n",
       "      <td>Yes</td>\n",
       "      <td>Yes</td>\n",
       "      <td>&lt;Null&gt;</td>\n",
       "      <td>&lt;Null&gt;</td>\n",
       "      <td>D42</td>\n",
       "      <td>131</td>\n",
       "      <td>Rouge (131)</td>\n",
       "      <td>3</td>\n",
       "    </tr>\n",
       "    <tr>\n",
       "      <th>3</th>\n",
       "      <td>-8.816480e+06</td>\n",
       "      <td>5.434843e+06</td>\n",
       "      <td>3388102</td>\n",
       "      <td>892810</td>\n",
       "      <td>2006</td>\n",
       "      <td>2006/03/11 05:00:00+00</td>\n",
       "      <td>915</td>\n",
       "      <td>9</td>\n",
       "      <td>MORNINGSIDE AVE</td>\n",
       "      <td>SHEPPARD AVE E</td>\n",
       "      <td>...</td>\n",
       "      <td>&lt;Null&gt;</td>\n",
       "      <td>&lt;Null&gt;</td>\n",
       "      <td>Yes</td>\n",
       "      <td>Yes</td>\n",
       "      <td>&lt;Null&gt;</td>\n",
       "      <td>&lt;Null&gt;</td>\n",
       "      <td>D42</td>\n",
       "      <td>131</td>\n",
       "      <td>Rouge (131)</td>\n",
       "      <td>4</td>\n",
       "    </tr>\n",
       "    <tr>\n",
       "      <th>4</th>\n",
       "      <td>-8.822759e+06</td>\n",
       "      <td>5.424516e+06</td>\n",
       "      <td>3387793</td>\n",
       "      <td>892682</td>\n",
       "      <td>2006</td>\n",
       "      <td>2006/03/12 05:00:00+00</td>\n",
       "      <td>240</td>\n",
       "      <td>2</td>\n",
       "      <td>EGLINTON AVE E</td>\n",
       "      <td>COMMONWEALTH AVE</td>\n",
       "      <td>...</td>\n",
       "      <td>&lt;Null&gt;</td>\n",
       "      <td>&lt;Null&gt;</td>\n",
       "      <td>&lt;Null&gt;</td>\n",
       "      <td>&lt;Null&gt;</td>\n",
       "      <td>Yes</td>\n",
       "      <td>&lt;Null&gt;</td>\n",
       "      <td>D41</td>\n",
       "      <td>138</td>\n",
       "      <td>Eglinton East (138)</td>\n",
       "      <td>5</td>\n",
       "    </tr>\n",
       "  </tbody>\n",
       "</table>\n",
       "<p>5 rows × 57 columns</p>\n",
       "</div>"
      ],
      "text/plain": [
       "              X             Y   INDEX_  ACCNUM  YEAR                    DATE  \\\n",
       "0 -8.844611e+06  5.412414e+06  3387730  892658  2006  2006/03/11 05:00:00+00   \n",
       "1 -8.844611e+06  5.412414e+06  3387731  892658  2006  2006/03/11 05:00:00+00   \n",
       "2 -8.816480e+06  5.434843e+06  3388101  892810  2006  2006/03/11 05:00:00+00   \n",
       "3 -8.816480e+06  5.434843e+06  3388102  892810  2006  2006/03/11 05:00:00+00   \n",
       "4 -8.822759e+06  5.424516e+06  3387793  892682  2006  2006/03/12 05:00:00+00   \n",
       "\n",
       "   TIME  HOUR          STREET1           STREET2  ... PASSENGER SPEEDING  \\\n",
       "0   852     8       BLOOR ST W       DUNDAS ST W  ...    <Null>   <Null>   \n",
       "1   852     8       BLOOR ST W       DUNDAS ST W  ...    <Null>   <Null>   \n",
       "2   915     9  MORNINGSIDE AVE    SHEPPARD AVE E  ...    <Null>   <Null>   \n",
       "3   915     9  MORNINGSIDE AVE    SHEPPARD AVE E  ...    <Null>   <Null>   \n",
       "4   240     2   EGLINTON AVE E  COMMONWEALTH AVE  ...    <Null>   <Null>   \n",
       "\n",
       "  AG_DRIV REDLIGHT ALCOHOL  DISABILITY  POLICE_DIVISION HOOD_ID  \\\n",
       "0     Yes   <Null>  <Null>      <Null>              D11      88   \n",
       "1     Yes   <Null>  <Null>      <Null>              D11      88   \n",
       "2     Yes      Yes  <Null>      <Null>              D42     131   \n",
       "3     Yes      Yes  <Null>      <Null>              D42     131   \n",
       "4  <Null>   <Null>     Yes      <Null>              D41     138   \n",
       "\n",
       "          NEIGHBOURHOOD ObjectId  \n",
       "0  High Park North (88)        1  \n",
       "1  High Park North (88)        2  \n",
       "2           Rouge (131)        3  \n",
       "3           Rouge (131)        4  \n",
       "4   Eglinton East (138)        5  \n",
       "\n",
       "[5 rows x 57 columns]"
      ]
     },
     "execution_count": 8,
     "metadata": {},
     "output_type": "execute_result"
    }
   ],
   "source": [
    "df.head()"
   ]
  },
  {
   "cell_type": "code",
   "execution_count": 9,
   "metadata": {},
   "outputs": [
    {
     "name": "stdout",
     "output_type": "stream",
     "text": [
      "<class 'pandas.core.frame.DataFrame'>\n",
      "RangeIndex: 16860 entries, 0 to 16859\n",
      "Data columns (total 57 columns):\n",
      " #   Column           Non-Null Count  Dtype  \n",
      "---  ------           --------------  -----  \n",
      " 0   X                16860 non-null  float64\n",
      " 1   Y                16860 non-null  float64\n",
      " 2   INDEX_           16860 non-null  int64  \n",
      " 3   ACCNUM           16860 non-null  int64  \n",
      " 4   YEAR             16860 non-null  int64  \n",
      " 5   DATE             16860 non-null  object \n",
      " 6   TIME             16860 non-null  int64  \n",
      " 7   HOUR             16860 non-null  int64  \n",
      " 8   STREET1          16860 non-null  object \n",
      " 9   STREET2          16860 non-null  object \n",
      " 10  OFFSET           16860 non-null  object \n",
      " 11  ROAD_CLASS       16860 non-null  object \n",
      " 12  DISTRICT         16860 non-null  object \n",
      " 13  WARDNUM          16860 non-null  object \n",
      " 14  DIVISION         16860 non-null  object \n",
      " 15  LATITUDE         16860 non-null  float64\n",
      " 16  LONGITUDE        16860 non-null  float64\n",
      " 17  LOCCOORD         16860 non-null  object \n",
      " 18  ACCLOC           16860 non-null  object \n",
      " 19  TRAFFCTL         16860 non-null  object \n",
      " 20  VISIBILITY       16860 non-null  object \n",
      " 21  LIGHT            16860 non-null  object \n",
      " 22  RDSFCOND         16860 non-null  object \n",
      " 23  ACCLASS          16860 non-null  object \n",
      " 24  IMPACTYPE        16860 non-null  object \n",
      " 25  INVTYPE          16860 non-null  object \n",
      " 26  INVAGE           16860 non-null  object \n",
      " 27  INJURY           16860 non-null  object \n",
      " 28  FATAL_NO         16860 non-null  object \n",
      " 29  INITDIR          16860 non-null  object \n",
      " 30  VEHTYPE          16860 non-null  object \n",
      " 31  MANOEUVER        16860 non-null  object \n",
      " 32  DRIVACT          16860 non-null  object \n",
      " 33  DRIVCOND         16860 non-null  object \n",
      " 34  PEDTYPE          16860 non-null  object \n",
      " 35  PEDACT           16860 non-null  object \n",
      " 36  PEDCOND          16860 non-null  object \n",
      " 37  CYCLISTYPE       16860 non-null  object \n",
      " 38  CYCACT           16860 non-null  object \n",
      " 39  CYCCOND          16860 non-null  object \n",
      " 40  PEDESTRIAN       16860 non-null  object \n",
      " 41  CYCLIST          16860 non-null  object \n",
      " 42  AUTOMOBILE       16860 non-null  object \n",
      " 43  MOTORCYCLE       16860 non-null  object \n",
      " 44  TRUCK            16860 non-null  object \n",
      " 45  TRSN_CITY_VEH    16860 non-null  object \n",
      " 46  EMERG_VEH        16860 non-null  object \n",
      " 47  PASSENGER        16860 non-null  object \n",
      " 48  SPEEDING         16860 non-null  object \n",
      " 49  AG_DRIV          16860 non-null  object \n",
      " 50  REDLIGHT         16860 non-null  object \n",
      " 51  ALCOHOL          16860 non-null  object \n",
      " 52  DISABILITY       16860 non-null  object \n",
      " 53  POLICE_DIVISION  16860 non-null  object \n",
      " 54  HOOD_ID          16860 non-null  int64  \n",
      " 55  NEIGHBOURHOOD    16860 non-null  object \n",
      " 56  ObjectId         16860 non-null  int64  \n",
      "dtypes: float64(4), int64(7), object(46)\n",
      "memory usage: 7.3+ MB\n"
     ]
    }
   ],
   "source": [
    "df.info()"
   ]
  },
  {
   "cell_type": "code",
   "execution_count": 10,
   "metadata": {},
   "outputs": [
    {
     "data": {
      "text/plain": [
       "Index(['X', 'Y', 'INDEX_', 'ACCNUM', 'YEAR', 'DATE', 'TIME', 'HOUR', 'STREET1',\n",
       "       'STREET2', 'OFFSET', 'ROAD_CLASS', 'DISTRICT', 'WARDNUM', 'DIVISION',\n",
       "       'LATITUDE', 'LONGITUDE', 'LOCCOORD', 'ACCLOC', 'TRAFFCTL', 'VISIBILITY',\n",
       "       'LIGHT', 'RDSFCOND', 'ACCLASS', 'IMPACTYPE', 'INVTYPE', 'INVAGE',\n",
       "       'INJURY', 'FATAL_NO', 'INITDIR', 'VEHTYPE', 'MANOEUVER', 'DRIVACT',\n",
       "       'DRIVCOND', 'PEDTYPE', 'PEDACT', 'PEDCOND', 'CYCLISTYPE', 'CYCACT',\n",
       "       'CYCCOND', 'PEDESTRIAN', 'CYCLIST', 'AUTOMOBILE', 'MOTORCYCLE', 'TRUCK',\n",
       "       'TRSN_CITY_VEH', 'EMERG_VEH', 'PASSENGER', 'SPEEDING', 'AG_DRIV',\n",
       "       'REDLIGHT', 'ALCOHOL', 'DISABILITY', 'POLICE_DIVISION', 'HOOD_ID',\n",
       "       'NEIGHBOURHOOD', 'ObjectId'],\n",
       "      dtype='object')"
      ]
     },
     "execution_count": 10,
     "metadata": {},
     "output_type": "execute_result"
    }
   ],
   "source": [
    "df.columns"
   ]
  },
  {
   "cell_type": "code",
   "execution_count": 18,
   "metadata": {},
   "outputs": [
    {
     "data": {
      "image/png": "[encoded data removed]",
      "text/plain": [
       "<Figure size 864x432 with 1 Axes>"
      ]
     },
     "metadata": {
      "needs_background": "light"
     },
     "output_type": "display_data"
    }
   ],
   "source": [
    "Num_accident = df.groupby('YEAR')['ACCNUM'].nunique()\n",
    "plt.figure(figsize=(12,6))\n",
    "plt.title(\"Accidents caused in different years\")\n",
    "plt.ylabel('Number of Accidents (ACCNUM)')\n",
    "\n",
    "ax = plt.gca()\n",
    "ax.tick_params(axis='x', colors='blue')\n",
    "ax.tick_params(axis='y', colors='red')\n",
    "my_colors = list('rgbkymc')   #red, green, blue, black, etc.\n",
    "Num_accident.plot(\n",
    "    kind='bar', \n",
    "    color='blue',\n",
    "    edgecolor='black'\n",
    ")\n",
    "#Num_accident.plot(kind='bar',color= my_colors)\n",
    "plt.show()"
   ]
  },
  {
   "cell_type": "code",
   "execution_count": 23,
   "metadata": {},
   "outputs": [
    {
     "data": {
      "text/plain": [
       "<seaborn.axisgrid.FacetGrid at 0x216d853d390>"
      ]
     },
     "execution_count": 23,
     "metadata": {},
     "output_type": "execute_result"
    },
    {
     "data": {
      "image/png": "[encoded data removed]",
      "text/plain": [
       "<Figure size 509.25x360 with 1 Axes>"
      ]
     },
     "metadata": {
      "needs_background": "light"
     },
     "output_type": "display_data"
    }
   ],
   "source": [
    "sns.catplot(x='YEAR', kind='count', data=df,  hue='ACCLASS')\n"
   ]
  },
  {
   "cell_type": "markdown",
   "metadata": {},
   "source": [
    "I break down the subset of dataframe the neccessary variables"
   ]
  },
  {
   "cell_type": "markdown",
   "metadata": {},
   "source": []
  },
  {
   "cell_type": "code",
   "execution_count": 12,
   "metadata": {},
   "outputs": [],
   "source": [
    "feature_lst=['DATE','HOUR','STREET1', 'STREET2','DISTRICT','LATITUDE','LONGITUDE','LOCCOORD','TRAFFCTL','VISIBILITY','LIGHT','RDSFCOND','ACCLASS','IMPACTYPE','INVAGE','PEDESTRIAN','CYCLIST','AUTOMOBILE','MOTORCYCLE','TRUCK','TRSN_CITY_VEH','EMERG_VEH','PASSENGER','SPEEDING','AG_DRIV','REDLIGHT','ALCOHOL','DISABILITY','INJURY']"
   ]
  },
  {
   "cell_type": "code",
   "execution_count": null,
   "metadata": {},
   "outputs": [],
   "source": []
  },
  {
   "cell_type": "code",
   "execution_count": 13,
   "metadata": {},
   "outputs": [
    {
     "name": "stdout",
     "output_type": "stream",
     "text": [
      "<class 'pandas.core.frame.DataFrame'>\n",
      "RangeIndex: 16860 entries, 0 to 16859\n",
      "Data columns (total 29 columns):\n",
      " #   Column         Non-Null Count  Dtype  \n",
      "---  ------         --------------  -----  \n",
      " 0   DATE           16860 non-null  object \n",
      " 1   HOUR           16860 non-null  int64  \n",
      " 2   STREET1        16860 non-null  object \n",
      " 3   STREET2        16860 non-null  object \n",
      " 4   DISTRICT       16860 non-null  object \n",
      " 5   LATITUDE       16860 non-null  float64\n",
      " 6   LONGITUDE      16860 non-null  float64\n",
      " 7   LOCCOORD       16860 non-null  object \n",
      " 8   TRAFFCTL       16860 non-null  object \n",
      " 9   VISIBILITY     16860 non-null  object \n",
      " 10  LIGHT          16860 non-null  object \n",
      " 11  RDSFCOND       16860 non-null  object \n",
      " 12  ACCLASS        16860 non-null  object \n",
      " 13  IMPACTYPE      16860 non-null  object \n",
      " 14  INVAGE         16860 non-null  object \n",
      " 15  PEDESTRIAN     16860 non-null  object \n",
      " 16  CYCLIST        16860 non-null  object \n",
      " 17  AUTOMOBILE     16860 non-null  object \n",
      " 18  MOTORCYCLE     16860 non-null  object \n",
      " 19  TRUCK          16860 non-null  object \n",
      " 20  TRSN_CITY_VEH  16860 non-null  object \n",
      " 21  EMERG_VEH      16860 non-null  object \n",
      " 22  PASSENGER      16860 non-null  object \n",
      " 23  SPEEDING       16860 non-null  object \n",
      " 24  AG_DRIV        16860 non-null  object \n",
      " 25  REDLIGHT       16860 non-null  object \n",
      " 26  ALCOHOL        16860 non-null  object \n",
      " 27  DISABILITY     16860 non-null  object \n",
      " 28  INJURY         16860 non-null  object \n",
      "dtypes: float64(2), int64(1), object(26)\n",
      "memory usage: 3.7+ MB\n"
     ]
    }
   ],
   "source": [
    "df_sel=df[feature_lst].copy()\n",
    "df_sel.info()"
   ]
  },
  {
   "cell_type": "code",
   "execution_count": 14,
   "metadata": {},
   "outputs": [
    {
     "name": "stdout",
     "output_type": "stream",
     "text": [
      "(16860, 29)\n",
      "(16860, 7926)\n"
     ]
    }
   ],
   "source": [
    "target='ACCLASS'\n",
    "# Create arrays for the features and the response variable\n",
    "print(df_sel.shape)\n",
    "# set X and y\n",
    "y = df_sel[target]\n",
    "X1 = df_sel.drop(target, axis=1)\n",
    "X = pd.get_dummies(X1, drop_first=True)\n",
    "print(X.shape)"
   ]
  },
  {
   "cell_type": "code",
   "execution_count": null,
   "metadata": {},
   "outputs": [],
   "source": []
  },
  {
   "cell_type": "code",
   "execution_count": 15,
   "metadata": {},
   "outputs": [],
   "source": [
    "train_X, valid_X, train_y, valid_y = train_test_split(X,y, test_size=0.4, random_state=1)"
   ]
  },
  {
   "cell_type": "code",
   "execution_count": 16,
   "metadata": {},
   "outputs": [
    {
     "ename": "NameError",
     "evalue": "name 'LogisticRegression' is not defined",
     "output_type": "error",
     "traceback": [
      "\u001b[1;31m---------------------------------------------------------------------------\u001b[0m",
      "\u001b[1;31mNameError\u001b[0m                                 Traceback (most recent call last)",
      "\u001b[1;32mc:\\Users\\Tu Nguyen\\Downloads\\Centennial College\\SAS competition 2022\\KSI-Tu.ipynb Cell 14'\u001b[0m in \u001b[0;36m<module>\u001b[1;34m\u001b[0m\n\u001b[1;32m----> <a href='vscode-notebook-cell:/c%3A/Users/Tu%20Nguyen/Downloads/Centennial%20College/SAS%20competition%202022/KSI-Tu.ipynb#ch0000011?line=0'>1</a>\u001b[0m logit_reg \u001b[39m=\u001b[39m LogisticRegression()\n\u001b[0;32m      <a href='vscode-notebook-cell:/c%3A/Users/Tu%20Nguyen/Downloads/Centennial%20College/SAS%20competition%202022/KSI-Tu.ipynb#ch0000011?line=1'>2</a>\u001b[0m logit_reg\u001b[39m.\u001b[39mfit(train_X, train_y)\n",
      "\u001b[1;31mNameError\u001b[0m: name 'LogisticRegression' is not defined"
     ]
    }
   ],
   "source": [
    "logit_reg = LogisticRegression()\n",
    "logit_reg.fit(train_X, train_y)"
   ]
  },
  {
   "cell_type": "code",
   "execution_count": null,
   "metadata": {},
   "outputs": [
    {
     "data": {
      "text/plain": [
       "array([-0.00085966,  0.00121881, -0.00035915])"
      ]
     },
     "execution_count": 12,
     "metadata": {},
     "output_type": "execute_result"
    }
   ],
   "source": [
    "logit_reg.intercept_"
   ]
  },
  {
   "cell_type": "code",
   "execution_count": null,
   "metadata": {},
   "outputs": [
    {
     "data": {
      "text/plain": [
       "array([[-2.61288200e-10, -6.35417429e-18, -2.07463057e-17, ...,\n",
       "        -3.49659681e-20, -3.17736215e-20, -1.80157686e-19],\n",
       "       [ 2.60546097e-10,  6.34244902e-18,  2.06982295e-17, ...,\n",
       "         3.49025345e-20,  3.17207625e-20,  1.79727921e-19],\n",
       "       [-9.33578047e-10, -3.42375853e-03, -1.14082222e-02, ...,\n",
       "        -1.52824604e-05, -1.97643567e-05, -9.20062721e-05]])"
      ]
     },
     "execution_count": 60,
     "metadata": {},
     "output_type": "execute_result"
    }
   ],
   "source": [
    "logit_reg.coef_"
   ]
  },
  {
   "cell_type": "code",
   "execution_count": null,
   "metadata": {},
   "outputs": [
    {
     "data": {
      "text/plain": [
       "LogisticRegression(C=1e+42, random_state=1, solver='liblinear')"
      ]
     },
     "execution_count": 17,
     "metadata": {},
     "output_type": "execute_result"
    }
   ],
   "source": [
    "logit_reg = LogisticRegression(solver='liblinear', C=1e42, random_state=1)\n",
    "logit_reg.fit(train_X, train_y)\n"
   ]
  },
  {
   "cell_type": "code",
   "execution_count": null,
   "metadata": {},
   "outputs": [
    {
     "name": "stdout",
     "output_type": "stream",
     "text": [
      "                                     coef\n",
      "ACCNUM                      -2.552049e-10\n",
      "HOUR                        -6.378037e-18\n",
      "LATITUDE                    -2.072033e-17\n",
      "LONGITUDE                    3.764208e-17\n",
      "DATE_2006/01/02 05:00:00+00  0.000000e+00\n",
      "...                                   ...\n",
      "INJURY_Fatal                 5.233560e-20\n",
      "INJURY_Major                -2.298304e-19\n",
      "INJURY_Minimal              -3.576819e-20\n",
      "INJURY_Minor                -3.338227e-20\n",
      "INJURY_None                 -1.742094e-19\n",
      "\n",
      "[7927 rows x 1 columns]\n"
     ]
    }
   ],
   "source": [
    "print(pd.DataFrame({'coef': logit_reg.coef_[0]}, index=X.columns))"
   ]
  },
  {
   "cell_type": "code",
   "execution_count": null,
   "metadata": {},
   "outputs": [],
   "source": [
    "logit_reg_prob = logit_reg.predict_proba(valid_X)"
   ]
  },
  {
   "cell_type": "code",
   "execution_count": null,
   "metadata": {},
   "outputs": [
    {
     "data": {
      "text/plain": [
       "array([[9.94451747e-01, 5.54354994e-03, 4.70349360e-06],\n",
       "       [2.13820498e-01, 7.86179078e-01, 4.23911682e-07],\n",
       "       [1.14602756e-01, 8.85394686e-01, 2.55833786e-06],\n",
       "       ...,\n",
       "       [5.34990807e-02, 9.46488362e-01, 1.25577981e-05],\n",
       "       [1.28011440e-01, 8.71960698e-01, 2.78622843e-05],\n",
       "       [6.13685732e-02, 9.38630877e-01, 5.49767146e-07]])"
      ]
     },
     "execution_count": 16,
     "metadata": {},
     "output_type": "execute_result"
    }
   ],
   "source": [
    "logit_reg_prob"
   ]
  },
  {
   "cell_type": "code",
   "execution_count": null,
   "metadata": {},
   "outputs": [],
   "source": [
    "logit_reg_pred = logit_reg.predict(valid_X)"
   ]
  },
  {
   "cell_type": "code",
   "execution_count": null,
   "metadata": {},
   "outputs": [
    {
     "data": {
      "text/html": [
       "<div>\n",
       "<style scoped>\n",
       "    .dataframe tbody tr th:only-of-type {\n",
       "        vertical-align: middle;\n",
       "    }\n",
       "\n",
       "    .dataframe tbody tr th {\n",
       "        vertical-align: top;\n",
       "    }\n",
       "\n",
       "    .dataframe thead th {\n",
       "        text-align: right;\n",
       "    }\n",
       "</style>\n",
       "<table border=\"1\" class=\"dataframe\">\n",
       "  <thead>\n",
       "    <tr style=\"text-align: right;\">\n",
       "      <th></th>\n",
       "      <th>actual</th>\n",
       "      <th>p_0</th>\n",
       "      <th>p_1</th>\n",
       "      <th>predicted</th>\n",
       "    </tr>\n",
       "  </thead>\n",
       "  <tbody>\n",
       "    <tr>\n",
       "      <th>15374</th>\n",
       "      <td>Fatal</td>\n",
       "      <td>0.091418</td>\n",
       "      <td>0.908576</td>\n",
       "      <td>Non-Fatal Injury</td>\n",
       "    </tr>\n",
       "    <tr>\n",
       "      <th>7768</th>\n",
       "      <td>Non-Fatal Injury</td>\n",
       "      <td>0.375063</td>\n",
       "      <td>0.375182</td>\n",
       "      <td>Non-Fatal Injury</td>\n",
       "    </tr>\n",
       "    <tr>\n",
       "      <th>4280</th>\n",
       "      <td>Non-Fatal Injury</td>\n",
       "      <td>0.374769</td>\n",
       "      <td>0.374873</td>\n",
       "      <td>Non-Fatal Injury</td>\n",
       "    </tr>\n",
       "    <tr>\n",
       "      <th>5834</th>\n",
       "      <td>Non-Fatal Injury</td>\n",
       "      <td>0.374670</td>\n",
       "      <td>0.374778</td>\n",
       "      <td>Non-Fatal Injury</td>\n",
       "    </tr>\n",
       "    <tr>\n",
       "      <th>15962</th>\n",
       "      <td>Fatal</td>\n",
       "      <td>0.091426</td>\n",
       "      <td>0.908568</td>\n",
       "      <td>Non-Fatal Injury</td>\n",
       "    </tr>\n",
       "    <tr>\n",
       "      <th>...</th>\n",
       "      <td>...</td>\n",
       "      <td>...</td>\n",
       "      <td>...</td>\n",
       "      <td>...</td>\n",
       "    </tr>\n",
       "    <tr>\n",
       "      <th>12989</th>\n",
       "      <td>Non-Fatal Injury</td>\n",
       "      <td>0.177855</td>\n",
       "      <td>0.821879</td>\n",
       "      <td>Non-Fatal Injury</td>\n",
       "    </tr>\n",
       "    <tr>\n",
       "      <th>13328</th>\n",
       "      <td>Non-Fatal Injury</td>\n",
       "      <td>0.143585</td>\n",
       "      <td>0.856340</td>\n",
       "      <td>Non-Fatal Injury</td>\n",
       "    </tr>\n",
       "    <tr>\n",
       "      <th>5265</th>\n",
       "      <td>Non-Fatal Injury</td>\n",
       "      <td>0.374466</td>\n",
       "      <td>0.374573</td>\n",
       "      <td>Non-Fatal Injury</td>\n",
       "    </tr>\n",
       "    <tr>\n",
       "      <th>1735</th>\n",
       "      <td>Non-Fatal Injury</td>\n",
       "      <td>0.374323</td>\n",
       "      <td>0.374412</td>\n",
       "      <td>Non-Fatal Injury</td>\n",
       "    </tr>\n",
       "    <tr>\n",
       "      <th>13608</th>\n",
       "      <td>Non-Fatal Injury</td>\n",
       "      <td>0.177834</td>\n",
       "      <td>0.821903</td>\n",
       "      <td>Non-Fatal Injury</td>\n",
       "    </tr>\n",
       "  </tbody>\n",
       "</table>\n",
       "<p>6744 rows × 4 columns</p>\n",
       "</div>"
      ],
      "text/plain": [
       "                 actual       p_0       p_1         predicted\n",
       "15374             Fatal  0.091418  0.908576  Non-Fatal Injury\n",
       "7768   Non-Fatal Injury  0.375063  0.375182  Non-Fatal Injury\n",
       "4280   Non-Fatal Injury  0.374769  0.374873  Non-Fatal Injury\n",
       "5834   Non-Fatal Injury  0.374670  0.374778  Non-Fatal Injury\n",
       "15962             Fatal  0.091426  0.908568  Non-Fatal Injury\n",
       "...                 ...       ...       ...               ...\n",
       "12989  Non-Fatal Injury  0.177855  0.821879  Non-Fatal Injury\n",
       "13328  Non-Fatal Injury  0.143585  0.856340  Non-Fatal Injury\n",
       "5265   Non-Fatal Injury  0.374466  0.374573  Non-Fatal Injury\n",
       "1735   Non-Fatal Injury  0.374323  0.374412  Non-Fatal Injury\n",
       "13608  Non-Fatal Injury  0.177834  0.821903  Non-Fatal Injury\n",
       "\n",
       "[6744 rows x 4 columns]"
      ]
     },
     "execution_count": 65,
     "metadata": {},
     "output_type": "execute_result"
    }
   ],
   "source": [
    "logit_result = pd.DataFrame({'actual' : valid_y,\n",
    "                             'p_0' : [p[0] for p in logit_reg_prob],\n",
    "                             'p_1' : [p[1] for p in logit_reg_prob],\n",
    "                             'predicted': logit_reg_pred})\n",
    "logit_result"
   ]
  },
  {
   "cell_type": "code",
   "execution_count": null,
   "metadata": {},
   "outputs": [
    {
     "name": "stdout",
     "output_type": "stream",
     "text": [
      "Confusion Matrix (Accuracy 1.0000)\n",
      "\n",
      "       Prediction\n",
      "Actual    0    1    2\n",
      "     0 1391    0    0\n",
      "     1    0 8723    0\n",
      "     2    0    0    2\n"
     ]
    }
   ],
   "source": [
    "classificationSummary(train_y, logit_reg.predict(train_X))"
   ]
  },
  {
   "cell_type": "code",
   "execution_count": null,
   "metadata": {},
   "outputs": [
    {
     "name": "stdout",
     "output_type": "stream",
     "text": [
      "Confusion Matrix (Accuracy 0.9631)\n",
      "\n",
      "       Prediction\n",
      "Actual    0    1\n",
      "     0  699  207\n",
      "     1   42 5796\n"
     ]
    }
   ],
   "source": [
    "classificationSummary(valid_y, logit_reg.predict(valid_X))"
   ]
  },
  {
   "cell_type": "markdown",
   "metadata": {},
   "source": [
    "PEDESTRIAN"
   ]
  },
  {
   "cell_type": "code",
   "execution_count": null,
   "metadata": {},
   "outputs": [
    {
     "data": {
      "text/plain": [
       "<Null>    10033\n",
       "Yes        6827\n",
       "Name: PEDESTRIAN, dtype: int64"
      ]
     },
     "execution_count": 8,
     "metadata": {},
     "output_type": "execute_result"
    }
   ],
   "source": [
    "road['PEDESTRIAN'].value_counts().sort_values(ascending = False)"
   ]
  },
  {
   "cell_type": "code",
   "execution_count": null,
   "metadata": {},
   "outputs": [
    {
     "data": {
      "text/plain": [
       "<AxesSubplot:>"
      ]
     },
     "execution_count": 10,
     "metadata": {},
     "output_type": "execute_result"
    },
    {
     "data": {
      "image/png": "[encoded data removed]",
      "text/plain": [
       "<Figure size 504x504 with 1 Axes>"
      ]
     },
     "metadata": {
      "needs_background": "light"
     },
     "output_type": "display_data"
    }
   ],
   "source": [
    "road['PEDESTRIAN'].value_counts().sort_values(ascending = False).plot(kind = 'bar', color = 'red', figsize = (7,7))"
   ]
  },
  {
   "cell_type": "code",
   "execution_count": null,
   "metadata": {},
   "outputs": [
    {
     "data": {
      "text/html": [
       "<div>\n",
       "<style scoped>\n",
       "    .dataframe tbody tr th:only-of-type {\n",
       "        vertical-align: middle;\n",
       "    }\n",
       "\n",
       "    .dataframe tbody tr th {\n",
       "        vertical-align: top;\n",
       "    }\n",
       "\n",
       "    .dataframe thead th {\n",
       "        text-align: right;\n",
       "    }\n",
       "</style>\n",
       "<table border=\"1\" class=\"dataframe\">\n",
       "  <thead>\n",
       "    <tr style=\"text-align: right;\">\n",
       "      <th></th>\n",
       "      <th>PEDESTRIAN</th>\n",
       "      <th>INVTYPE</th>\n",
       "    </tr>\n",
       "  </thead>\n",
       "  <tbody>\n",
       "    <tr>\n",
       "      <th>0</th>\n",
       "      <td>&lt;Null&gt;</td>\n",
       "      <td>10033</td>\n",
       "    </tr>\n",
       "    <tr>\n",
       "      <th>1</th>\n",
       "      <td>Yes</td>\n",
       "      <td>6827</td>\n",
       "    </tr>\n",
       "  </tbody>\n",
       "</table>\n",
       "</div>"
      ],
      "text/plain": [
       "  PEDESTRIAN  INVTYPE\n",
       "0     <Null>    10033\n",
       "1        Yes     6827"
      ]
     },
     "execution_count": 16,
     "metadata": {},
     "output_type": "execute_result"
    }
   ],
   "source": [
    "pedestrian= road.groupby('PEDESTRIAN')['INVTYPE'].count().sort_values(ascending = False).reset_index()\n",
    "pedestrian.head(20)"
   ]
  },
  {
   "cell_type": "code",
   "execution_count": null,
   "metadata": {},
   "outputs": [
    {
     "data": {
      "text/plain": [
       "<AxesSubplot:>"
      ]
     },
     "execution_count": 17,
     "metadata": {},
     "output_type": "execute_result"
    },
    {
     "data": {
      "image/png": "[encoded data removed]",
      "text/plain": [
       "<Figure size 504x504 with 1 Axes>"
      ]
     },
     "metadata": {
      "needs_background": "light"
     },
     "output_type": "display_data"
    }
   ],
   "source": [
    "road['INVAGE'].value_counts().sort_values(ascending = False).plot(kind = 'bar', color = 'red', figsize = (7,7))"
   ]
  },
  {
   "cell_type": "code",
   "execution_count": null,
   "metadata": {},
   "outputs": [
    {
     "data": {
      "text/html": [
       "<div>\n",
       "<style scoped>\n",
       "    .dataframe tbody tr th:only-of-type {\n",
       "        vertical-align: middle;\n",
       "    }\n",
       "\n",
       "    .dataframe tbody tr th {\n",
       "        vertical-align: top;\n",
       "    }\n",
       "\n",
       "    .dataframe thead th {\n",
       "        text-align: right;\n",
       "    }\n",
       "</style>\n",
       "<table border=\"1\" class=\"dataframe\">\n",
       "  <thead>\n",
       "    <tr style=\"text-align: right;\">\n",
       "      <th></th>\n",
       "      <th>DISTRICT</th>\n",
       "      <th>PEDESTRIAN</th>\n",
       "    </tr>\n",
       "  </thead>\n",
       "  <tbody>\n",
       "    <tr>\n",
       "      <th>0</th>\n",
       "      <td>Toronto and East York</td>\n",
       "      <td>5617</td>\n",
       "    </tr>\n",
       "    <tr>\n",
       "      <th>1</th>\n",
       "      <td>Etobicoke York</td>\n",
       "      <td>3884</td>\n",
       "    </tr>\n",
       "    <tr>\n",
       "      <th>2</th>\n",
       "      <td>Scarborough</td>\n",
       "      <td>3798</td>\n",
       "    </tr>\n",
       "    <tr>\n",
       "      <th>3</th>\n",
       "      <td>North York</td>\n",
       "      <td>3343</td>\n",
       "    </tr>\n",
       "    <tr>\n",
       "      <th>4</th>\n",
       "      <td>&lt;Null&gt;</td>\n",
       "      <td>141</td>\n",
       "    </tr>\n",
       "    <tr>\n",
       "      <th>5</th>\n",
       "      <td>Toronto East York</td>\n",
       "      <td>77</td>\n",
       "    </tr>\n",
       "  </tbody>\n",
       "</table>\n",
       "</div>"
      ],
      "text/plain": [
       "                DISTRICT  PEDESTRIAN\n",
       "0  Toronto and East York        5617\n",
       "1         Etobicoke York        3884\n",
       "2            Scarborough        3798\n",
       "3             North York        3343\n",
       "4                 <Null>         141\n",
       "5      Toronto East York          77"
      ]
     },
     "execution_count": 19,
     "metadata": {},
     "output_type": "execute_result"
    }
   ],
   "source": [
    "district = road.groupby('DISTRICT')['PEDESTRIAN'].count().sort_values(ascending = False).reset_index()\n",
    "district.head(20)"
   ]
  },
  {
   "cell_type": "code",
   "execution_count": null,
   "metadata": {},
   "outputs": [
    {
     "data": {
      "text/html": [
       "<div>\n",
       "<style scoped>\n",
       "    .dataframe tbody tr th:only-of-type {\n",
       "        vertical-align: middle;\n",
       "    }\n",
       "\n",
       "    .dataframe tbody tr th {\n",
       "        vertical-align: top;\n",
       "    }\n",
       "\n",
       "    .dataframe thead th {\n",
       "        text-align: right;\n",
       "    }\n",
       "</style>\n",
       "<table border=\"1\" class=\"dataframe\">\n",
       "  <thead>\n",
       "    <tr style=\"text-align: right;\">\n",
       "      <th></th>\n",
       "      <th>INVAGE</th>\n",
       "      <th>PEDESTRIAN</th>\n",
       "    </tr>\n",
       "  </thead>\n",
       "  <tbody>\n",
       "    <tr>\n",
       "      <th>0</th>\n",
       "      <td>unknown</td>\n",
       "      <td>2573</td>\n",
       "    </tr>\n",
       "    <tr>\n",
       "      <th>1</th>\n",
       "      <td>20 to 24</td>\n",
       "      <td>1561</td>\n",
       "    </tr>\n",
       "    <tr>\n",
       "      <th>2</th>\n",
       "      <td>25 to 29</td>\n",
       "      <td>1504</td>\n",
       "    </tr>\n",
       "    <tr>\n",
       "      <th>3</th>\n",
       "      <td>30 to 34</td>\n",
       "      <td>1248</td>\n",
       "    </tr>\n",
       "    <tr>\n",
       "      <th>4</th>\n",
       "      <td>50 to 54</td>\n",
       "      <td>1222</td>\n",
       "    </tr>\n",
       "    <tr>\n",
       "      <th>5</th>\n",
       "      <td>35 to 39</td>\n",
       "      <td>1205</td>\n",
       "    </tr>\n",
       "    <tr>\n",
       "      <th>6</th>\n",
       "      <td>40 to 44</td>\n",
       "      <td>1181</td>\n",
       "    </tr>\n",
       "    <tr>\n",
       "      <th>7</th>\n",
       "      <td>45 to 49</td>\n",
       "      <td>1153</td>\n",
       "    </tr>\n",
       "    <tr>\n",
       "      <th>8</th>\n",
       "      <td>55 to 59</td>\n",
       "      <td>993</td>\n",
       "    </tr>\n",
       "    <tr>\n",
       "      <th>9</th>\n",
       "      <td>60 to 64</td>\n",
       "      <td>796</td>\n",
       "    </tr>\n",
       "    <tr>\n",
       "      <th>10</th>\n",
       "      <td>15 to 19</td>\n",
       "      <td>766</td>\n",
       "    </tr>\n",
       "    <tr>\n",
       "      <th>11</th>\n",
       "      <td>65 to 69</td>\n",
       "      <td>614</td>\n",
       "    </tr>\n",
       "    <tr>\n",
       "      <th>12</th>\n",
       "      <td>70 to 74</td>\n",
       "      <td>488</td>\n",
       "    </tr>\n",
       "    <tr>\n",
       "      <th>13</th>\n",
       "      <td>75 to 79</td>\n",
       "      <td>402</td>\n",
       "    </tr>\n",
       "    <tr>\n",
       "      <th>14</th>\n",
       "      <td>80 to 84</td>\n",
       "      <td>307</td>\n",
       "    </tr>\n",
       "    <tr>\n",
       "      <th>15</th>\n",
       "      <td>10 to 14</td>\n",
       "      <td>231</td>\n",
       "    </tr>\n",
       "    <tr>\n",
       "      <th>16</th>\n",
       "      <td>85 to 89</td>\n",
       "      <td>196</td>\n",
       "    </tr>\n",
       "    <tr>\n",
       "      <th>17</th>\n",
       "      <td>5 to 9</td>\n",
       "      <td>183</td>\n",
       "    </tr>\n",
       "    <tr>\n",
       "      <th>18</th>\n",
       "      <td>0 to 4</td>\n",
       "      <td>167</td>\n",
       "    </tr>\n",
       "    <tr>\n",
       "      <th>19</th>\n",
       "      <td>90 to 94</td>\n",
       "      <td>56</td>\n",
       "    </tr>\n",
       "  </tbody>\n",
       "</table>\n",
       "</div>"
      ],
      "text/plain": [
       "      INVAGE  PEDESTRIAN\n",
       "0    unknown        2573\n",
       "1   20 to 24        1561\n",
       "2   25 to 29        1504\n",
       "3   30 to 34        1248\n",
       "4   50 to 54        1222\n",
       "5   35 to 39        1205\n",
       "6   40 to 44        1181\n",
       "7   45 to 49        1153\n",
       "8   55 to 59         993\n",
       "9   60 to 64         796\n",
       "10  15 to 19         766\n",
       "11  65 to 69         614\n",
       "12  70 to 74         488\n",
       "13  75 to 79         402\n",
       "14  80 to 84         307\n",
       "15  10 to 14         231\n",
       "16  85 to 89         196\n",
       "17    5 to 9         183\n",
       "18    0 to 4         167\n",
       "19  90 to 94          56"
      ]
     },
     "execution_count": 20,
     "metadata": {},
     "output_type": "execute_result"
    }
   ],
   "source": [
    "pedestrian_age = road.groupby('INVAGE')['PEDESTRIAN'].count().sort_values(ascending = False).reset_index()\n",
    "pedestrian_age.head(20)"
   ]
  },
  {
   "cell_type": "code",
   "execution_count": null,
   "metadata": {},
   "outputs": [],
   "source": []
  }
 ],
 "metadata": {
  "interpreter": {
   "hash": "53c72c4e4f491d1590b7b759f96cdacafae70d972512553bc2d0790afb585e0e"
  },
  "kernelspec": {
   "display_name": "Python 3.10.2 64-bit",
   "language": "python",
   "name": "python3"
  },
  "language_info": {
   "codemirror_mode": {
    "name": "ipython",
    "version": 3
   },
   "file_extension": ".py",
   "mimetype": "text/x-python",
   "name": "python",
   "nbconvert_exporter": "python",
   "pygments_lexer": "ipython3",
   "version": "3.10.2"
  },
  "orig_nbformat": 4
 },
 "nbformat": 4,
 "nbformat_minor": 2
}
